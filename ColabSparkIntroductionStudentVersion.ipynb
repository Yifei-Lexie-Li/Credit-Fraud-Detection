{
  "cells": [
    {
      "cell_type": "markdown",
      "metadata": {
        "id": "view-in-github",
        "colab_type": "text"
      },
      "source": [
        "<a href=\"https://colab.research.google.com/github/Yifei-Lexie-Li/Credit-Fraud-Detection/blob/main/ColabSparkIntroductionStudentVersion.ipynb\" target=\"_parent\"><img src=\"https://colab.research.google.com/assets/colab-badge.svg\" alt=\"Open In Colab\"/></a>"
      ]
    },
    {
      "cell_type": "code",
      "execution_count": null,
      "metadata": {
        "colab": {
          "base_uri": "https://localhost:8080/"
        },
        "id": "aQHjkHYCsUxA",
        "outputId": "1a0d1948-b03d-4bf6-93c6-6a759fe957a0"
      },
      "outputs": [
        {
          "output_type": "stream",
          "name": "stdout",
          "text": [
            "Collecting pyspark\n",
            "  Downloading pyspark-3.5.1.tar.gz (317.0 MB)\n",
            "\u001b[2K     \u001b[90m━━━━━━━━━━━━━━━━━━━━━━━━━━━━━━━━━━━━━━━━\u001b[0m \u001b[32m317.0/317.0 MB\u001b[0m \u001b[31m2.4 MB/s\u001b[0m eta \u001b[36m0:00:00\u001b[0m\n",
            "\u001b[?25h  Preparing metadata (setup.py) ... \u001b[?25l\u001b[?25hdone\n",
            "Requirement already satisfied: py4j==0.10.9.7 in /usr/local/lib/python3.10/dist-packages (from pyspark) (0.10.9.7)\n",
            "Building wheels for collected packages: pyspark\n",
            "  Building wheel for pyspark (setup.py) ... \u001b[?25l\u001b[?25hdone\n",
            "  Created wheel for pyspark: filename=pyspark-3.5.1-py2.py3-none-any.whl size=317488491 sha256=d4302626854a0ffd6e614c38395554b5c26c91a07b457a4221704050b17ac166\n",
            "  Stored in directory: /root/.cache/pip/wheels/80/1d/60/2c256ed38dddce2fdd93be545214a63e02fbd8d74fb0b7f3a6\n",
            "Successfully built pyspark\n",
            "Installing collected packages: pyspark\n",
            "Successfully installed pyspark-3.5.1\n"
          ]
        }
      ],
      "source": [
        "# Install Java (required for Spark)\n",
        "!apt-get install openjdk-8-jdk-headless -qq > /dev/null\n",
        "\n",
        "# Download and extract Apache Spark 3.5.0 with Hadoop 3\n",
        "!wget -q https://archive.apache.org/dist/spark/spark-3.5.0/spark-3.5.0-bin-hadoop3.tgz\n",
        "!tar xf spark-3.5.0-bin-hadoop3.tgz\n",
        "\n",
        "# Install required Python packages\n",
        "!pip install -q findspark\n",
        "!pip install pyspark==3.5.5"
      ]
    },
    {
      "cell_type": "markdown",
      "source": [
        "**Why Spark requires Java?**\n",
        "1.   Java Virtual Machine (JVM) Dependence: Spark runs on the Java Virtual Machine (JVM), which allows it to work across different operating systems.\n",
        "2. Language Interoperability: Because it runs on the JVM, Spark can easily work with Java and Scala — the languages it was originally written in.\n",
        "3. Performance: The JVM helps manage memory efficiently, which is important when Spark is processing large datasets.\n",
        "4. Ecosystem Compatibility: Spark can take advantage of the large Java ecosystem — including tools and libraries — to make data processing more powerful.\n"
      ],
      "metadata": {
        "id": "gPDvS28uAPQp"
      }
    },
    {
      "cell_type": "code",
      "source": [
        "import os\n",
        "\n",
        "# Automatically detect Java version path (Java 8 or 11, whichever is installed)\n",
        "java_8_path = \"/usr/lib/jvm/java-8-openjdk-amd64\"\n",
        "java_11_path = \"/usr/lib/jvm/java-11-openjdk-amd64\"\n",
        "\n",
        "# Use whichever Java version is available\n",
        "if os.path.exists(java_8_path):\n",
        "    os.environ[\"JAVA_HOME\"] = java_8_path\n",
        "elif os.path.exists(java_11_path):\n",
        "    os.environ[\"JAVA_HOME\"] = java_11_path\n",
        "else:\n",
        "    raise EnvironmentError(\"No compatible Java version found.\")\n",
        "\n",
        "# Update to Spark 3.5.0 path\n",
        "os.environ[\"SPARK_HOME\"] = \"/content/spark-3.5.0-bin-hadoop3\""
      ],
      "metadata": {
        "id": "0B8juagltbTD"
      },
      "execution_count": null,
      "outputs": []
    },
    {
      "cell_type": "code",
      "execution_count": null,
      "metadata": {
        "id": "KtfLZdT3uN0-"
      },
      "outputs": [],
      "source": [
        "# Initialize Spark with findspark\n",
        "import findspark\n",
        "findspark.init()\n",
        "\n",
        "from pyspark.sql import SparkSession\n",
        "from pyspark.sql import Row\n",
        "from pyspark.sql.functions import col, to_date, to_timestamp\n",
        "from pyspark.sql.types import *\n",
        "\n",
        "# Optional: useful utilities\n",
        "from datetime import datetime, date, timedelta\n",
        "import random"
      ]
    },
    {
      "cell_type": "code",
      "execution_count": null,
      "metadata": {
        "id": "4pIyFNrLuN36"
      },
      "outputs": [],
      "source": [
        "# Initialize a SparkSession (entry point to Spark functionality)\n",
        "from pyspark.sql import SparkSession\n",
        "\n",
        "spark = SparkSession.builder \\\n",
        "    .appName(\"My First Spark App\") \\\n",
        "    .master(\"local[*]\") \\\n",
        "    .getOrCreate()\n",
        "\n",
        "# Optional: Check the Spark version\n",
        "print(\"Spark version:\", spark.version)"
      ]
    },
    {
      "cell_type": "code",
      "source": [
        "# View all Spark configuration settings\n",
        "for item in spark.sparkContext.getConf().getAll():\n",
        "    print(f\"{item[0]} = {item[1]}\")"
      ],
      "metadata": {
        "id": "TTodlq-EkWEf"
      },
      "execution_count": null,
      "outputs": []
    },
    {
      "cell_type": "markdown",
      "source": [
        "### 🔍 Key Spark Configuration Settings Explained\n",
        "\n",
        "---\n",
        "\n",
        "\n",
        "\n",
        "| Config Key | Meaning | Teaching Interpretation |\n",
        "|------------|---------|--------------------------|\n",
        "| `spark.app.name = My First Spark App` | Name of your application | Useful for identifying jobs in logs or Spark UI |\n",
        "| `spark.master = local[*]` | Run Spark locally using all available CPU cores | `*` means use all cores — perfect for Colab |\n",
        "| `spark.app.id = local-...` | Unique ID for the Spark application run | Changes each time you restart the app |\n",
        "| `spark.driver.host` | Hostname of the Spark driver | Automatically set by Colab; not user-controlled |\n",
        "| `spark.driver.port` | Port for driver communication | Also auto-assigned; not usually changed |\n",
        "| `spark.submit.deployMode = client` | Mode for job submission | Always `client` in Colab/local runs |\n",
        "| `spark.rdd.compress = True` | RDDs are compressed in memory | Helps save RAM; good performance default |\n",
        "| `spark.serializer.objectStreamReset = 100` | Frequency of serialization stream resets | Tuning option, can be ignored for now |\n",
        "| `spark.submit.pyFiles = ` | No additional `.py` files submitted | Only needed when deploying extra Python modules |\n",
        "| `spark.ui.showConsoleProgress = true` | Enables progress bar in output console | Helpful to track stages while running code |\n"
      ],
      "metadata": {
        "id": "iixSFIRskZ3J"
      }
    },
    {
      "cell_type": "code",
      "execution_count": null,
      "metadata": {
        "colab": {
          "base_uri": "https://localhost:8080/"
        },
        "id": "7ZsAwhmc9Y5a",
        "outputId": "a89db808-93f3-4555-cf78-19f372b04190"
      },
      "outputs": [
        {
          "output_type": "stream",
          "name": "stdout",
          "text": [
            "Mounted at /content/drive\n"
          ]
        }
      ],
      "source": [
        "# Load the data from Google Drive\n",
        "from google.colab import drive\n",
        "drive.mount('/content/drive')"
      ]
    },
    {
      "cell_type": "code",
      "source": [
        "#To upload files, use the following command\n",
        "from google.colab import files\n",
        "files.upload()"
      ],
      "metadata": {
        "id": "PZ_zJWO5B-1u"
      },
      "execution_count": null,
      "outputs": []
    },
    {
      "cell_type": "code",
      "execution_count": null,
      "metadata": {
        "id": "Ec2eXOQ0DKO5"
      },
      "outputs": [],
      "source": [
        "inputFile = spark.read.csv(\"ecommerce.csv\", inferSchema = True, header = True)"
      ]
    },
    {
      "cell_type": "code",
      "source": [
        "# Check the number of partitions Spark created\n",
        "print(\"Number of partitions:\", inputFile.rdd.getNumPartitions())"
      ],
      "metadata": {
        "id": "jT43IJLokijr"
      },
      "execution_count": null,
      "outputs": []
    },
    {
      "cell_type": "markdown",
      "source": [
        "### 🧠 Why Did Spark Only Use 1 Partition?\n",
        "\n",
        "That happened because:\n",
        "\n",
        "---\n",
        "\n",
        "#### 📁 Colab Reads the File from Local Disk (Not HDFS)\n",
        "\n",
        "- Spark’s default behavior for `.csv` files on a **local filesystem** (like Colab or your laptop) is to treat the file as a **single input split**, resulting in **one partition**.\n",
        "- If the file were stored on a **distributed filesystem** like **HDFS** or **S3**, Spark would try to split it based on block size (e.g., **128MB**), which would typically result in **multiple partitions**.\n",
        "\n",
        "---\n",
        "\n",
        "#### 📏 Small File Size\n",
        "\n",
        "- If your `.csv` file is **small** (e.g., less than **128MB**), Spark doesn’t bother splitting it.\n",
        "- For a file that’s only **1–10 MB**, having **1 partition** is completely normal and efficient.\n"
      ],
      "metadata": {
        "id": "WChQdxOCkmyh"
      }
    },
    {
      "cell_type": "code",
      "execution_count": null,
      "metadata": {
        "colab": {
          "base_uri": "https://localhost:8080/"
        },
        "id": "0tJefkG0uytt",
        "outputId": "157cceed-0e96-43be-8b47-bd3b522e93d2"
      },
      "outputs": [
        {
          "output_type": "stream",
          "name": "stdout",
          "text": [
            "root\n",
            " |-- Email: string (nullable = true)\n",
            " |-- Address: string (nullable = true)\n",
            " |-- Avatar: string (nullable = true)\n",
            " |-- Avg Session Length: double (nullable = true)\n",
            " |-- Time on App: double (nullable = true)\n",
            " |-- Time on Website: double (nullable = true)\n",
            " |-- Length of Membership: double (nullable = true)\n",
            " |-- Yearly Amount Spent: double (nullable = true)\n",
            "\n"
          ]
        }
      ],
      "source": [
        "inputFile.printSchema()"
      ]
    },
    {
      "cell_type": "code",
      "execution_count": null,
      "metadata": {
        "colab": {
          "base_uri": "https://localhost:8080/"
        },
        "id": "AYnpQpUpu40f",
        "outputId": "bbe3bae2-64eb-4ff7-df58-470154286036"
      },
      "outputs": [
        {
          "output_type": "stream",
          "name": "stdout",
          "text": [
            "+--------------------+--------------------+----------------+------------------+------------------+------------------+--------------------+-------------------+\n",
            "|               Email|             Address|          Avatar|Avg Session Length|       Time on App|   Time on Website|Length of Membership|Yearly Amount Spent|\n",
            "+--------------------+--------------------+----------------+------------------+------------------+------------------+--------------------+-------------------+\n",
            "|mstephenson@ferna...|835 Frank TunnelW...|          Violet| 34.49726772511229| 12.65565114916675| 39.57766801952616|  4.0826206329529615|  587.9510539684005|\n",
            "|   hduke@hotmail.com|4547 Archer Commo...|       DarkGreen| 31.92627202636016|11.109460728682564|37.268958868297744|    2.66403418213262|  392.2049334443264|\n",
            "|    pallen@yahoo.com|24645 Valerie Uni...|          Bisque|33.000914755642675|11.330278057777512|37.110597442120856|   4.104543202376424| 487.54750486747207|\n",
            "|riverarebecca@gma...|1414 David Throug...|     SaddleBrown| 34.30555662975554|13.717513665142507| 36.72128267790313|   3.120178782748092|  581.8523440352177|\n",
            "|mstephens@davidso...|14023 Rodriguez P...|MediumAquaMarine| 33.33067252364639|12.795188551078114| 37.53665330059473|   4.446308318351434|  599.4060920457634|\n",
            "+--------------------+--------------------+----------------+------------------+------------------+------------------+--------------------+-------------------+\n",
            "only showing top 5 rows\n",
            "\n"
          ]
        }
      ],
      "source": [
        "inputFile.show(5)"
      ]
    },
    {
      "cell_type": "code",
      "execution_count": null,
      "metadata": {
        "colab": {
          "base_uri": "https://localhost:8080/"
        },
        "id": "yvt6w61Vu-Bj",
        "outputId": "48c814b4-a708-4785-a282-d1dfbef0c667"
      },
      "outputs": [
        {
          "output_type": "execute_result",
          "data": {
            "text/plain": [
              "DataFrame[summary: string, Email: string, Address: string, Avatar: string, Avg Session Length: string, Time on App: string, Time on Website: string, Length of Membership: string, Yearly Amount Spent: string]"
            ]
          },
          "metadata": {},
          "execution_count": 10
        }
      ],
      "source": [
        "inputFile.describe()"
      ]
    },
    {
      "cell_type": "code",
      "execution_count": null,
      "metadata": {
        "colab": {
          "base_uri": "https://localhost:8080/"
        },
        "id": "_aBjjLirvBOh",
        "outputId": "40c6c5cd-70a7-49d1-a0e9-4916f1feffc8"
      },
      "outputs": [
        {
          "output_type": "stream",
          "name": "stdout",
          "text": [
            "+-------+-----------------+--------------------+-----------+------------------+------------------+------------------+--------------------+-------------------+\n",
            "|summary|            Email|             Address|     Avatar|Avg Session Length|       Time on App|   Time on Website|Length of Membership|Yearly Amount Spent|\n",
            "+-------+-----------------+--------------------+-----------+------------------+------------------+------------------+--------------------+-------------------+\n",
            "|  count|              500|                 500|        500|               500|               500|               500|                 500|                500|\n",
            "|   mean|             null|                null|       null| 33.05319351819619|12.052487937166134| 37.06044542094859|   3.533461555915055|  499.3140382585909|\n",
            "| stddev|             null|                null|       null|0.9925631110845354|0.9942156084725424|1.0104889067564033|  0.9992775024112585|   79.3147815497068|\n",
            "|    min|aaron04@yahoo.com|0001 Mack MillNor...|  AliceBlue|29.532428967057943| 8.508152176032603| 33.91384724758464|  0.2699010899842742| 256.67058229005585|\n",
            "|    max|zscott@wright.com|Unit 7502 Box 834...|YellowGreen| 36.13966248879052|15.126994288792467|40.005181638101895|   6.922689335035808|  765.5184619388373|\n",
            "+-------+-----------------+--------------------+-----------+------------------+------------------+------------------+--------------------+-------------------+\n",
            "\n"
          ]
        }
      ],
      "source": [
        "inputFile.describe().show()"
      ]
    },
    {
      "cell_type": "markdown",
      "metadata": {
        "id": "uPaA4P-mY-cu"
      },
      "source": [
        "**What is Cache? When you should use it?**\n",
        "\n",
        "\n",
        "\n",
        "\n"
      ]
    },
    {
      "cell_type": "markdown",
      "metadata": {
        "id": "Bmfh39rkZOIM"
      },
      "source": [
        "*Caching intermediate data provides significant performance improvement while running multiple queries on the same data.*"
      ]
    },
    {
      "cell_type": "markdown",
      "metadata": {
        "id": "O6vHxJBIZOZw"
      },
      "source": [
        "Three different options:\n",
        "\n",
        "\n",
        "1.   DISK_ONLY: Persist data on disk only in serialized format.\n",
        "2.   MEMORY_ONLY: Persist data in memory only in deserialized format.\n",
        "3. MEMORY_AND_DISK: Persist data in memory and if enough memory is not available evicted blocks will be stored on disk.\n",
        "\n",
        "\n"
      ]
    },
    {
      "cell_type": "markdown",
      "metadata": {
        "id": "mpXp11nSaIoj"
      },
      "source": [
        "![CachingMethods.png](data:image/png;base64,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)"
      ]
    },
    {
      "cell_type": "markdown",
      "metadata": {
        "id": "mWJYpuL9Z26M"
      },
      "source": [
        "**What's the difference with persist()?**"
      ]
    },
    {
      "cell_type": "markdown",
      "metadata": {
        "id": "FOkFGDz5bXBB"
      },
      "source": [
        "**What's the difference with collect()?**"
      ]
    },
    {
      "cell_type": "code",
      "execution_count": null,
      "metadata": {
        "colab": {
          "base_uri": "https://localhost:8080/"
        },
        "id": "t1hcG8EwwLi4",
        "outputId": "bdd1b444-fded-4fd1-a3d2-89d1a56a099f"
      },
      "outputs": [
        {
          "name": "stdout",
          "output_type": "stream",
          "text": [
            "+--------------------+--------------------+----------------+------------------+------------------+------------------+--------------------+-------------------+\n",
            "|               Email|             Address|          Avatar|Avg Session Length|       Time on App|   Time on Website|Length of Membership|Yearly Amount Spent|\n",
            "+--------------------+--------------------+----------------+------------------+------------------+------------------+--------------------+-------------------+\n",
            "|mstephenson@ferna...|835 Frank TunnelW...|          Violet| 34.49726772511229| 12.65565114916675| 39.57766801952616|  4.0826206329529615|  587.9510539684005|\n",
            "|   hduke@hotmail.com|4547 Archer Commo...|       DarkGreen| 31.92627202636016|11.109460728682564|37.268958868297744|    2.66403418213262|  392.2049334443264|\n",
            "|    pallen@yahoo.com|24645 Valerie Uni...|          Bisque|33.000914755642675|11.330278057777512|37.110597442120856|   4.104543202376424| 487.54750486747207|\n",
            "|riverarebecca@gma...|1414 David Throug...|     SaddleBrown| 34.30555662975554|13.717513665142507| 36.72128267790313|   3.120178782748092|  581.8523440352177|\n",
            "|mstephens@davidso...|14023 Rodriguez P...|MediumAquaMarine| 33.33067252364639|12.795188551078114| 37.53665330059473|   4.446308318351434|  599.4060920457634|\n",
            "|alvareznancy@luca...|645 Martha Park A...|     FloralWhite|33.871037879341976|12.026925339755056| 34.47687762925054|   5.493507201364199|   637.102447915074|\n",
            "|katherine20@yahoo...|68388 Reyes Light...|   DarkSlateBlue| 32.02159550138701|11.366348309710526| 36.68377615286961|   4.685017246570912|  521.5721747578274|\n",
            "|  awatkins@yahoo.com|Unit 6538 Box 898...|            Aqua|32.739142938380326| 12.35195897300293| 37.37335885854755|  4.4342734348999375|  549.9041461052942|\n",
            "|vchurch@walter-ma...|860 Lee KeyWest D...|          Salmon| 33.98777289568564|13.386235275676436|37.534497341555735|  3.2734335777477144|  570.2004089636196|\n",
            "|    bonnie69@lin.biz|PSC 2734, Box 525...|           Brown|31.936548618448917|11.814128294972196| 37.14516822352819|   3.202806071553459|  427.1993848953282|\n",
            "|andrew06@peterson...|26104 Alexander G...|          Tomato|33.992572774953736|13.338975447662113| 37.22580613162114|   2.482607770510596|  492.6060127179966|\n",
            "|ryanwerner@freema...|Unit 2413 Box 034...|          Tomato| 33.87936082480498|11.584782999535266| 37.08792607098381|    3.71320920294043|  522.3374046069357|\n",
            "|   knelson@gmail.com|6705 Miller Orcha...|       RoyalBlue|29.532428967057943|10.961298400154098| 37.42021557502538|   4.046423164299585|  408.6403510726275|\n",
            "|wrightpeter@yahoo...|05302 Dunlap Ferr...|          Bisque| 33.19033404372265|12.959226091609382|36.144666700041924|   3.918541839158999|  573.4158673313865|\n",
            "|taylormason@gmail...|7773 Powell Sprin...|        DarkBlue|32.387975853153876|13.148725692056516| 36.61995708279922|   2.494543646659249|  470.4527333009554|\n",
            "| jstark@anderson.com|49558 Ramirez Roa...|            Peru|30.737720372628182|12.636606052000127|36.213763093698624|  3.3578468423262944|  461.7807421962299|\n",
            "| wjennings@gmail.com|6362 Wilson Mount...|      PowderBlue| 32.12538689728784|11.733861690857394|  34.8940927514398|  3.1361327164897803| 457.84769594494855|\n",
            "|rebecca45@hale-ba...|8982 Burton RowWi...|       OliveDrab|32.338899323067196|12.013194694014402| 38.38513659413844|   2.420806160901484| 407.70454754954415|\n",
            "|alejandro75@hotma...|64475 Andre Club ...|            Cyan|32.187812045932155|  14.7153875441565| 38.24411459434352|   1.516575580831944|  452.3156754800354|\n",
            "|samuel46@love-wes...|544 Alexander Hei...|   LightSeaGreen| 32.61785606282345|13.989592555825254|37.190503800397956|   4.064548550437977|   605.061038804892|\n",
            "+--------------------+--------------------+----------------+------------------+------------------+------------------+--------------------+-------------------+\n",
            "only showing top 20 rows\n",
            "\n"
          ]
        }
      ],
      "source": [
        "inputFile.cache()\n",
        "inputFile.show()"
      ]
    },
    {
      "cell_type": "code",
      "execution_count": null,
      "metadata": {
        "id": "Ap3d08uOjEKA"
      },
      "outputs": [],
      "source": []
    },
    {
      "cell_type": "code",
      "source": [],
      "metadata": {
        "id": "0NEDFlHdTU4b"
      },
      "execution_count": null,
      "outputs": []
    },
    {
      "cell_type": "code",
      "source": [],
      "metadata": {
        "id": "hV5y81FkTU8_"
      },
      "execution_count": null,
      "outputs": []
    },
    {
      "cell_type": "code",
      "source": [],
      "metadata": {
        "id": "f1s_iOGeTU_f"
      },
      "execution_count": null,
      "outputs": []
    },
    {
      "cell_type": "code",
      "source": [],
      "metadata": {
        "id": "5VgxHjtRTVDe"
      },
      "execution_count": null,
      "outputs": []
    },
    {
      "cell_type": "code",
      "source": [],
      "metadata": {
        "id": "nv_lvZN3TVH9"
      },
      "execution_count": null,
      "outputs": []
    },
    {
      "cell_type": "code",
      "source": [],
      "metadata": {
        "id": "z5Peuh-HTVK6"
      },
      "execution_count": null,
      "outputs": []
    },
    {
      "cell_type": "markdown",
      "source": [
        "### 📌 One-Hot Encoding: Benefits & Drawbacks\n",
        "\n",
        "**One-hot encoding** is a classic method used to convert categorical values (like words or labels) into binary vectors. Each unique category is assigned a vector where only one element is \"hot\" (1), and all others are zero.\n",
        "\n",
        "#### ✅ Benefits of One-Hot Encoding:\n",
        "- **Simple and interpretable**: Easy to implement and understand.\n",
        "- **Non-ordinal**: Makes no assumptions about the order or distance between categories.\n",
        "- **Works well for small, fixed vocabularies**: Useful in many machine learning pipelines when the number of categories is small.\n",
        "\n",
        "#### ⚠️ Drawbacks of One-Hot Encoding:\n",
        "- **High dimensionality**: Each new category adds a new dimension → leads to sparse and memory-inefficient representations for large vocabularies.\n",
        "- **No semantic similarity**: All categories are equidistant — \"cat\", \"dog\", and \"banana\" are all equally unrelated.\n",
        "- **Not scalable for NLP**: In modern natural language processing, vocabularies can have tens or hundreds of thousands of unique tokens.\n",
        "- **No generalization**: Cannot capture relationships between words like synonyms, analogies, or contextual meaning.\n",
        "\n",
        "#### 🚀 Modern Alternative: Word Embeddings & Language Models\n",
        "Today, one-hot encoding has largely been replaced in NLP by **word embeddings** (like Word2Vec, GloVe, or FastText) and especially **contextual embeddings** from **transformers and LLMs** (e.g., BERT, GPT).\n",
        "\n",
        "These models learn **dense, low-dimensional vectors** that capture:\n",
        "- Semantic similarity\n",
        "- Contextual usage\n",
        "- Word relationships (e.g., \"king\" - \"man\" + \"woman\" ≈ \"queen\")\n",
        "\n",
        "While one-hot encoding still has educational value and is sometimes useful in non-text categorical data, it's **rarely used in modern NLP pipelines** — especially when large language models (LLMs) are available.\n",
        "\n",
        "---\n"
      ],
      "metadata": {
        "id": "Y9kOL5WjTV5S"
      }
    },
    {
      "cell_type": "code",
      "source": [],
      "metadata": {
        "id": "EcWUh13jTWS9"
      },
      "execution_count": null,
      "outputs": []
    }
  ],
  "metadata": {
    "colab": {
      "provenance": [],
      "include_colab_link": true
    },
    "kernelspec": {
      "display_name": "Python 3",
      "name": "python3"
    },
    "language_info": {
      "name": "python"
    }
  },
  "nbformat": 4,
  "nbformat_minor": 0
}